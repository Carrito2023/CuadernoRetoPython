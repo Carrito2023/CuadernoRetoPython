{
 "cells": [
  {
   "cell_type": "markdown",
   "id": "6ec73a79",
   "metadata": {},
   "source": [
    "# MANUAL DEL USO DE PRINT ()"
   ]
  },
  {
   "cell_type": "markdown",
   "id": "0901a8f8",
   "metadata": {},
   "source": [
    "PARA ENVIAR MENSAJES A CONSOLA SE USA LA FUNCION DE PRINT()"
   ]
  },
  {
   "cell_type": "code",
   "execution_count": 1,
   "id": "643a98da",
   "metadata": {},
   "outputs": [
    {
     "data": {
      "text/plain": [
       "10"
      ]
     },
     "execution_count": 1,
     "metadata": {},
     "output_type": "execute_result"
    }
   ],
   "source": [
    "print(5+5)\n"
   ]
  },
  {
   "cell_type": "code",
   "execution_count": 2,
   "id": "9a8eb56d",
   "metadata": {},
   "outputs": [
    {
     "data": {
      "text/plain": [
       "3364"
      ]
     },
     "execution_count": 2,
     "metadata": {},
     "output_type": "execute_result"
    }
   ],
   "source": [
    "58**2"
   ]
  },
  {
   "cell_type": "code",
   "execution_count": null,
   "id": "b1f0cb93",
   "metadata": {},
   "outputs": [],
   "source": []
  },
  {
   "cell_type": "code",
   "execution_count": null,
   "id": "58049bc4",
   "metadata": {},
   "outputs": [],
   "source": []
  },
  {
   "cell_type": "code",
   "execution_count": null,
   "id": "e97322e0",
   "metadata": {},
   "outputs": [],
   "source": []
  }
 ],
 "metadata": {
  "kernelspec": {
   "display_name": "Python 3 (ipykernel)",
   "language": "python",
   "name": "python3"
  },
  "language_info": {
   "codemirror_mode": {
    "name": "ipython",
    "version": 3
   },
   "file_extension": ".py",
   "mimetype": "text/x-python",
   "name": "python",
   "nbconvert_exporter": "python",
   "pygments_lexer": "ipython3",
   "version": "3.11.3"
  }
 },
 "nbformat": 4,
 "nbformat_minor": 5
}
